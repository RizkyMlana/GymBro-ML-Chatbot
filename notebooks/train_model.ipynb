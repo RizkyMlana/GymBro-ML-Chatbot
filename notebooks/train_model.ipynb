{
 "cells": [
  {
   "cell_type": "code",
   "execution_count": 2,
   "id": "7d59518f",
   "metadata": {},
   "outputs": [],
   "source": [
    "import pandas as pd"
   ]
  },
  {
   "cell_type": "code",
   "execution_count": 3,
   "id": "71b6814e",
   "metadata": {},
   "outputs": [],
   "source": [
    "df = pd.read_excel(\"../data/gym.xlsx\", engine='openpyxl')"
   ]
  },
  {
   "cell_type": "code",
   "execution_count": 5,
   "id": "f5a7b44b",
   "metadata": {},
   "outputs": [
    {
     "data": {
      "application/vnd.microsoft.datawrangler.viewer.v0+json": {
       "columns": [
        {
         "name": "index",
         "rawType": "int64",
         "type": "integer"
        },
        {
         "name": "ID",
         "rawType": "int64",
         "type": "integer"
        },
        {
         "name": "Sex",
         "rawType": "object",
         "type": "string"
        },
        {
         "name": "Age",
         "rawType": "int64",
         "type": "integer"
        },
        {
         "name": "Height",
         "rawType": "float64",
         "type": "float"
        },
        {
         "name": "Weight",
         "rawType": "float64",
         "type": "float"
        },
        {
         "name": "Hypertension",
         "rawType": "object",
         "type": "string"
        },
        {
         "name": "Diabetes",
         "rawType": "object",
         "type": "string"
        },
        {
         "name": "BMI",
         "rawType": "float64",
         "type": "float"
        },
        {
         "name": "Level",
         "rawType": "object",
         "type": "string"
        },
        {
         "name": "Fitness Goal",
         "rawType": "object",
         "type": "string"
        },
        {
         "name": "Fitness Type",
         "rawType": "object",
         "type": "string"
        },
        {
         "name": "Exercises",
         "rawType": "object",
         "type": "string"
        },
        {
         "name": "Equipment",
         "rawType": "object",
         "type": "string"
        },
        {
         "name": "Diet",
         "rawType": "object",
         "type": "string"
        },
        {
         "name": "Recommendation",
         "rawType": "object",
         "type": "string"
        }
       ],
       "conversionMethod": "pd.DataFrame",
       "ref": "59ccd6cc-ecf8-4a14-b1aa-93008778e219",
       "rows": [
        [
         "0",
         "1",
         "Male",
         "18",
         "1.68",
         "47.5",
         "No",
         "No",
         "16.83",
         "Underweight",
         "Weight Gain",
         "Muscular Fitness",
         "Squats, deadlifts, bench presses, and overhead presses",
         "Dumbbells and barbells",
         "Vegetables: (Carrots, Sweet Potato, and Lettuce); Protein Intake: (Red meats, poultry, fish, eggs, dairy products, legumes, and nuts); Juice: (Fruit juice, watermelon juice, carrot juice, apple juice and mango juice)",
         "Follow a regular exercise schedule. Adhere to the exercise and diet plan to get better results. It is important to approach weight gain in a healthy and balanced way, focusing on both exercise and nutrition. Keep in mind that weight gain should be gradual and focused on building lean muscle rather than increasing fat. Additionally, it's always a good idea to consult with a health care professional or registered dietitian before making any significant changes to your exercise or diet plan. Here are some important tips:- Stay hydrated by drinking enough water throughout the day. Monitor your progress and adjust your diet and exercise routine accordingly. Get adequate sleep to support muscle recovery and overall health. Always monitor your situation, and consult your personal doctor or a professional counselor."
        ],
        [
         "1",
         "2",
         "Male",
         "18",
         "1.68",
         "47.5",
         "Yes",
         "No",
         "16.83",
         "Underweight",
         "Weight Gain",
         "Muscular Fitness",
         "Squats, deadlifts, bench presses, and overhead presses",
         "Light athletic shoes, resistance bands, and light dumbbells.",
         "Vegetables: (Tomatoes, Garlic, leafy greens, broccoli, carrots, and bell peppers); Protein Intake: (poultry, fish, tofu, legumes, and low-fat dairy products); Juice: (Apple juice, beetroot juice and mango juice)",
         "Follow a regular exercise schedule. Adhere to the exercise and diet plan to get better results. I'm not a medical professional, but I can give you general advice that you should talk to your healthcare provider before making any changes to your exercise or diet, especially if you have hypertension. It is important to work with a health care professional to create an individualized plan based on your unique health needs. Always consult a health care professional or dietician for personalized advice based on your specific medical condition, as high blood pressure requires careful management of diet and exercise. Here are some important tips:- Stay hydrated by drinking enough water throughout the day. Monitor your progress and adjust your diet and exercise routine accordingly. Get adequate sleep to support muscle recovery and overall health. Always monitor your situation, and consult your personal doctor or a professional counselor."
        ],
        [
         "2",
         "3",
         "Male",
         "18",
         "1.68",
         "47.5",
         "No",
         "Yes",
         "16.83",
         "Underweight",
         "Weight Gain",
         "Muscular Fitness",
         "Squats, yoga, deadlifts, bench presses, and overhead presses",
         "Dumbbells, barbells and Blood glucose monitor",
         "Vegetables: (Garlic, Roma Tomatoes, Capers and Iceberg Lettuce); Protein Intake: (Cheese Standwish, Baru Nuts, Beech Nuts, Squash Seeds, and Mixed Teff); Juice: (Apple juice, beetroot juice and mango juice)",
         "Follow a regular exercise schedule. Adhere to the exercise and diet plan to get better results. I'm not a doctor, but I give you general advice on weight gain exercises and diet plans. It is important for individuals with diabetes to consult with a health care professional, such as a registered dietitian or health care provider, to create an individualized plan that meets their unique needs. Also, avoid anything that can cause diabetes whether you are doing fitness or not. Here are some important tips:- Stay hydrated by drinking enough water throughout the day. Monitor your progress and adjust your diet and exercise routine accordingly. Get adequate sleep to support muscle recovery and overall health. Always monitor your situation, and consult your personal doctor or a professional counselor."
        ],
        [
         "3",
         "4",
         "Male",
         "18",
         "1.68",
         "47.5",
         "Yes",
         "Yes",
         "16.83",
         "Underweight",
         "Weight Gain",
         "Muscular Fitness",
         "Squats, yoga, deadlifts, bench presses, and overhead presses",
         "Light athletic shoes, resistance bands, light dumbbells and a Blood glucose monitor.",
         "Vegetables: (Garlic, Roma Tomatoes, Capers, Green Papper, and Iceberg Lettuce); Protein Intake: (Cheese Sandwich, Baru Nuts, Beech Nuts, Squash Seeds, Mixed Teff, peanut butter, and jelly sandwich); Juice: (Apple juice, beetroot juice, and mango juice)",
         "Follow a regular exercise schedule. Adhere to the exercise and diet plan to get better results. I'm not a doctor, but I give you general advice on weight gain exercises and diet plans. It is important for individuals with diabetes and high blood pressure to consult with a health care professional, such as a registered dietitian or health care provider, to find an individualized plan that meets their unique needs. also stop everything that can increase diabetes and blood pressure whether you are doing fitness or not. measure your sugar (diabetes) and blood before starting fitness. Here are some important tips:- Stay hydrated by drinking enough water throughout the day. Monitor your progress and adjust your diet and exercise routine accordingly. Get adequate sleep to support muscle recovery and overall health. Always monitor your situation, and consult your personal doctor or a professional counselor."
        ],
        [
         "4",
         "5",
         "Male",
         "18",
         "1.68",
         "47.5",
         "No",
         "No",
         "16.83",
         "Underweight",
         "Weight Gain",
         "Muscular Fitness",
         "Squats, deadlifts, bench presses, and overhead presses",
         "Dumbbells and barbells",
         "Vegetables: (Carrots, Sweet Potato, Lettuce); Protein Intake: (Red meats, poultry, fish, eggs, dairy products, legumes, and nuts); Juice: (Fruit juice, watermelon juice, carrot juice, apple juice and mango juice)",
         "Follow a regular exercise schedule. Adhere to the exercise and diet plan to get better results. It is important to approach weight gain in a healthy and balanced way, focusing on both exercise and nutrition. Keep in mind that weight gain should be gradual and focused on building lean muscle rather than increasing fat. Additionally, it's always a good idea to consult with a health care professional or registered dietitian before making any significant changes to your exercise or diet plan. Here are some important tips:- Stay hydrated by drinking enough water throughout the day. Monitor your progress and adjust your diet and exercise routine accordingly. Get adequate sleep to support muscle recovery and overall health. Always monitor your situation, and consult your personal doctor or a professional counselor."
        ]
       ],
       "shape": {
        "columns": 15,
        "rows": 5
       }
      },
      "text/html": [
       "<div>\n",
       "<style scoped>\n",
       "    .dataframe tbody tr th:only-of-type {\n",
       "        vertical-align: middle;\n",
       "    }\n",
       "\n",
       "    .dataframe tbody tr th {\n",
       "        vertical-align: top;\n",
       "    }\n",
       "\n",
       "    .dataframe thead th {\n",
       "        text-align: right;\n",
       "    }\n",
       "</style>\n",
       "<table border=\"1\" class=\"dataframe\">\n",
       "  <thead>\n",
       "    <tr style=\"text-align: right;\">\n",
       "      <th></th>\n",
       "      <th>ID</th>\n",
       "      <th>Sex</th>\n",
       "      <th>Age</th>\n",
       "      <th>Height</th>\n",
       "      <th>Weight</th>\n",
       "      <th>Hypertension</th>\n",
       "      <th>Diabetes</th>\n",
       "      <th>BMI</th>\n",
       "      <th>Level</th>\n",
       "      <th>Fitness Goal</th>\n",
       "      <th>Fitness Type</th>\n",
       "      <th>Exercises</th>\n",
       "      <th>Equipment</th>\n",
       "      <th>Diet</th>\n",
       "      <th>Recommendation</th>\n",
       "    </tr>\n",
       "  </thead>\n",
       "  <tbody>\n",
       "    <tr>\n",
       "      <th>0</th>\n",
       "      <td>1</td>\n",
       "      <td>Male</td>\n",
       "      <td>18</td>\n",
       "      <td>1.68</td>\n",
       "      <td>47.5</td>\n",
       "      <td>No</td>\n",
       "      <td>No</td>\n",
       "      <td>16.83</td>\n",
       "      <td>Underweight</td>\n",
       "      <td>Weight Gain</td>\n",
       "      <td>Muscular Fitness</td>\n",
       "      <td>Squats, deadlifts, bench presses, and overhead...</td>\n",
       "      <td>Dumbbells and barbells</td>\n",
       "      <td>Vegetables: (Carrots, Sweet Potato, and Lettuc...</td>\n",
       "      <td>Follow a regular exercise schedule. Adhere to ...</td>\n",
       "    </tr>\n",
       "    <tr>\n",
       "      <th>1</th>\n",
       "      <td>2</td>\n",
       "      <td>Male</td>\n",
       "      <td>18</td>\n",
       "      <td>1.68</td>\n",
       "      <td>47.5</td>\n",
       "      <td>Yes</td>\n",
       "      <td>No</td>\n",
       "      <td>16.83</td>\n",
       "      <td>Underweight</td>\n",
       "      <td>Weight Gain</td>\n",
       "      <td>Muscular Fitness</td>\n",
       "      <td>Squats, deadlifts, bench presses, and overhead...</td>\n",
       "      <td>Light athletic shoes, resistance bands, and li...</td>\n",
       "      <td>Vegetables: (Tomatoes, Garlic, leafy greens, b...</td>\n",
       "      <td>Follow a regular exercise schedule. Adhere to ...</td>\n",
       "    </tr>\n",
       "    <tr>\n",
       "      <th>2</th>\n",
       "      <td>3</td>\n",
       "      <td>Male</td>\n",
       "      <td>18</td>\n",
       "      <td>1.68</td>\n",
       "      <td>47.5</td>\n",
       "      <td>No</td>\n",
       "      <td>Yes</td>\n",
       "      <td>16.83</td>\n",
       "      <td>Underweight</td>\n",
       "      <td>Weight Gain</td>\n",
       "      <td>Muscular Fitness</td>\n",
       "      <td>Squats, yoga, deadlifts, bench presses, and ov...</td>\n",
       "      <td>Dumbbells, barbells and Blood glucose monitor</td>\n",
       "      <td>Vegetables: (Garlic, Roma Tomatoes, Capers and...</td>\n",
       "      <td>Follow a regular exercise schedule. Adhere to ...</td>\n",
       "    </tr>\n",
       "    <tr>\n",
       "      <th>3</th>\n",
       "      <td>4</td>\n",
       "      <td>Male</td>\n",
       "      <td>18</td>\n",
       "      <td>1.68</td>\n",
       "      <td>47.5</td>\n",
       "      <td>Yes</td>\n",
       "      <td>Yes</td>\n",
       "      <td>16.83</td>\n",
       "      <td>Underweight</td>\n",
       "      <td>Weight Gain</td>\n",
       "      <td>Muscular Fitness</td>\n",
       "      <td>Squats, yoga, deadlifts, bench presses, and ov...</td>\n",
       "      <td>Light athletic shoes, resistance bands, light ...</td>\n",
       "      <td>Vegetables: (Garlic, Roma Tomatoes, Capers, Gr...</td>\n",
       "      <td>Follow a regular exercise schedule. Adhere to ...</td>\n",
       "    </tr>\n",
       "    <tr>\n",
       "      <th>4</th>\n",
       "      <td>5</td>\n",
       "      <td>Male</td>\n",
       "      <td>18</td>\n",
       "      <td>1.68</td>\n",
       "      <td>47.5</td>\n",
       "      <td>No</td>\n",
       "      <td>No</td>\n",
       "      <td>16.83</td>\n",
       "      <td>Underweight</td>\n",
       "      <td>Weight Gain</td>\n",
       "      <td>Muscular Fitness</td>\n",
       "      <td>Squats, deadlifts, bench presses, and overhead...</td>\n",
       "      <td>Dumbbells and barbells</td>\n",
       "      <td>Vegetables: (Carrots, Sweet Potato, Lettuce); ...</td>\n",
       "      <td>Follow a regular exercise schedule. Adhere to ...</td>\n",
       "    </tr>\n",
       "  </tbody>\n",
       "</table>\n",
       "</div>"
      ],
      "text/plain": [
       "   ID   Sex  Age  Height  Weight Hypertension Diabetes    BMI        Level  \\\n",
       "0   1  Male   18    1.68    47.5           No       No  16.83  Underweight   \n",
       "1   2  Male   18    1.68    47.5          Yes       No  16.83  Underweight   \n",
       "2   3  Male   18    1.68    47.5           No      Yes  16.83  Underweight   \n",
       "3   4  Male   18    1.68    47.5          Yes      Yes  16.83  Underweight   \n",
       "4   5  Male   18    1.68    47.5           No       No  16.83  Underweight   \n",
       "\n",
       "  Fitness Goal      Fitness Type  \\\n",
       "0  Weight Gain  Muscular Fitness   \n",
       "1  Weight Gain  Muscular Fitness   \n",
       "2  Weight Gain  Muscular Fitness   \n",
       "3  Weight Gain  Muscular Fitness   \n",
       "4  Weight Gain  Muscular Fitness   \n",
       "\n",
       "                                           Exercises  \\\n",
       "0  Squats, deadlifts, bench presses, and overhead...   \n",
       "1  Squats, deadlifts, bench presses, and overhead...   \n",
       "2  Squats, yoga, deadlifts, bench presses, and ov...   \n",
       "3  Squats, yoga, deadlifts, bench presses, and ov...   \n",
       "4  Squats, deadlifts, bench presses, and overhead...   \n",
       "\n",
       "                                           Equipment  \\\n",
       "0                             Dumbbells and barbells   \n",
       "1  Light athletic shoes, resistance bands, and li...   \n",
       "2      Dumbbells, barbells and Blood glucose monitor   \n",
       "3  Light athletic shoes, resistance bands, light ...   \n",
       "4                             Dumbbells and barbells   \n",
       "\n",
       "                                                Diet  \\\n",
       "0  Vegetables: (Carrots, Sweet Potato, and Lettuc...   \n",
       "1  Vegetables: (Tomatoes, Garlic, leafy greens, b...   \n",
       "2  Vegetables: (Garlic, Roma Tomatoes, Capers and...   \n",
       "3  Vegetables: (Garlic, Roma Tomatoes, Capers, Gr...   \n",
       "4  Vegetables: (Carrots, Sweet Potato, Lettuce); ...   \n",
       "\n",
       "                                      Recommendation  \n",
       "0  Follow a regular exercise schedule. Adhere to ...  \n",
       "1  Follow a regular exercise schedule. Adhere to ...  \n",
       "2  Follow a regular exercise schedule. Adhere to ...  \n",
       "3  Follow a regular exercise schedule. Adhere to ...  \n",
       "4  Follow a regular exercise schedule. Adhere to ...  "
      ]
     },
     "execution_count": 5,
     "metadata": {},
     "output_type": "execute_result"
    }
   ],
   "source": [
    "df.head()"
   ]
  },
  {
   "cell_type": "code",
   "execution_count": null,
   "id": "afdd46eb",
   "metadata": {},
   "outputs": [],
   "source": [
    "df.drop(columns=['Hypertension'],inplace=True)\n",
    "df.drop(columns=['Fitness Goal'], inplace=True)\n",
    "df.drop(columns=['Fitness Type'], inplace=True)\n",
    "df.drop(columns=['Diet'], inplace=True)\n",
    "df.drop(columns=['Recommendation'] , inplace=True)"
   ]
  },
  {
   "cell_type": "code",
   "execution_count": 7,
   "id": "f171d4a8",
   "metadata": {},
   "outputs": [
    {
     "data": {
      "application/vnd.microsoft.datawrangler.viewer.v0+json": {
       "columns": [
        {
         "name": "index",
         "rawType": "int64",
         "type": "integer"
        },
        {
         "name": "ID",
         "rawType": "int64",
         "type": "integer"
        },
        {
         "name": "Sex",
         "rawType": "object",
         "type": "string"
        },
        {
         "name": "Age",
         "rawType": "int64",
         "type": "integer"
        },
        {
         "name": "Height",
         "rawType": "float64",
         "type": "float"
        },
        {
         "name": "Weight",
         "rawType": "float64",
         "type": "float"
        },
        {
         "name": "Diabetes",
         "rawType": "object",
         "type": "string"
        },
        {
         "name": "BMI",
         "rawType": "float64",
         "type": "float"
        },
        {
         "name": "Level",
         "rawType": "object",
         "type": "string"
        },
        {
         "name": "Exercises",
         "rawType": "object",
         "type": "string"
        },
        {
         "name": "Equipment",
         "rawType": "object",
         "type": "string"
        }
       ],
       "conversionMethod": "pd.DataFrame",
       "ref": "e91f6e80-f331-4d94-9b73-5a129547fce9",
       "rows": [
        [
         "0",
         "1",
         "Male",
         "18",
         "1.68",
         "47.5",
         "No",
         "16.83",
         "Underweight",
         "Squats, deadlifts, bench presses, and overhead presses",
         "Dumbbells and barbells"
        ],
        [
         "1",
         "2",
         "Male",
         "18",
         "1.68",
         "47.5",
         "No",
         "16.83",
         "Underweight",
         "Squats, deadlifts, bench presses, and overhead presses",
         "Light athletic shoes, resistance bands, and light dumbbells."
        ],
        [
         "2",
         "3",
         "Male",
         "18",
         "1.68",
         "47.5",
         "Yes",
         "16.83",
         "Underweight",
         "Squats, yoga, deadlifts, bench presses, and overhead presses",
         "Dumbbells, barbells and Blood glucose monitor"
        ],
        [
         "3",
         "4",
         "Male",
         "18",
         "1.68",
         "47.5",
         "Yes",
         "16.83",
         "Underweight",
         "Squats, yoga, deadlifts, bench presses, and overhead presses",
         "Light athletic shoes, resistance bands, light dumbbells and a Blood glucose monitor."
        ],
        [
         "4",
         "5",
         "Male",
         "18",
         "1.68",
         "47.5",
         "No",
         "16.83",
         "Underweight",
         "Squats, deadlifts, bench presses, and overhead presses",
         "Dumbbells and barbells"
        ]
       ],
       "shape": {
        "columns": 10,
        "rows": 5
       }
      },
      "text/html": [
       "<div>\n",
       "<style scoped>\n",
       "    .dataframe tbody tr th:only-of-type {\n",
       "        vertical-align: middle;\n",
       "    }\n",
       "\n",
       "    .dataframe tbody tr th {\n",
       "        vertical-align: top;\n",
       "    }\n",
       "\n",
       "    .dataframe thead th {\n",
       "        text-align: right;\n",
       "    }\n",
       "</style>\n",
       "<table border=\"1\" class=\"dataframe\">\n",
       "  <thead>\n",
       "    <tr style=\"text-align: right;\">\n",
       "      <th></th>\n",
       "      <th>ID</th>\n",
       "      <th>Sex</th>\n",
       "      <th>Age</th>\n",
       "      <th>Height</th>\n",
       "      <th>Weight</th>\n",
       "      <th>Diabetes</th>\n",
       "      <th>BMI</th>\n",
       "      <th>Level</th>\n",
       "      <th>Exercises</th>\n",
       "      <th>Equipment</th>\n",
       "    </tr>\n",
       "  </thead>\n",
       "  <tbody>\n",
       "    <tr>\n",
       "      <th>0</th>\n",
       "      <td>1</td>\n",
       "      <td>Male</td>\n",
       "      <td>18</td>\n",
       "      <td>1.68</td>\n",
       "      <td>47.5</td>\n",
       "      <td>No</td>\n",
       "      <td>16.83</td>\n",
       "      <td>Underweight</td>\n",
       "      <td>Squats, deadlifts, bench presses, and overhead...</td>\n",
       "      <td>Dumbbells and barbells</td>\n",
       "    </tr>\n",
       "    <tr>\n",
       "      <th>1</th>\n",
       "      <td>2</td>\n",
       "      <td>Male</td>\n",
       "      <td>18</td>\n",
       "      <td>1.68</td>\n",
       "      <td>47.5</td>\n",
       "      <td>No</td>\n",
       "      <td>16.83</td>\n",
       "      <td>Underweight</td>\n",
       "      <td>Squats, deadlifts, bench presses, and overhead...</td>\n",
       "      <td>Light athletic shoes, resistance bands, and li...</td>\n",
       "    </tr>\n",
       "    <tr>\n",
       "      <th>2</th>\n",
       "      <td>3</td>\n",
       "      <td>Male</td>\n",
       "      <td>18</td>\n",
       "      <td>1.68</td>\n",
       "      <td>47.5</td>\n",
       "      <td>Yes</td>\n",
       "      <td>16.83</td>\n",
       "      <td>Underweight</td>\n",
       "      <td>Squats, yoga, deadlifts, bench presses, and ov...</td>\n",
       "      <td>Dumbbells, barbells and Blood glucose monitor</td>\n",
       "    </tr>\n",
       "    <tr>\n",
       "      <th>3</th>\n",
       "      <td>4</td>\n",
       "      <td>Male</td>\n",
       "      <td>18</td>\n",
       "      <td>1.68</td>\n",
       "      <td>47.5</td>\n",
       "      <td>Yes</td>\n",
       "      <td>16.83</td>\n",
       "      <td>Underweight</td>\n",
       "      <td>Squats, yoga, deadlifts, bench presses, and ov...</td>\n",
       "      <td>Light athletic shoes, resistance bands, light ...</td>\n",
       "    </tr>\n",
       "    <tr>\n",
       "      <th>4</th>\n",
       "      <td>5</td>\n",
       "      <td>Male</td>\n",
       "      <td>18</td>\n",
       "      <td>1.68</td>\n",
       "      <td>47.5</td>\n",
       "      <td>No</td>\n",
       "      <td>16.83</td>\n",
       "      <td>Underweight</td>\n",
       "      <td>Squats, deadlifts, bench presses, and overhead...</td>\n",
       "      <td>Dumbbells and barbells</td>\n",
       "    </tr>\n",
       "  </tbody>\n",
       "</table>\n",
       "</div>"
      ],
      "text/plain": [
       "   ID   Sex  Age  Height  Weight Diabetes    BMI        Level  \\\n",
       "0   1  Male   18    1.68    47.5       No  16.83  Underweight   \n",
       "1   2  Male   18    1.68    47.5       No  16.83  Underweight   \n",
       "2   3  Male   18    1.68    47.5      Yes  16.83  Underweight   \n",
       "3   4  Male   18    1.68    47.5      Yes  16.83  Underweight   \n",
       "4   5  Male   18    1.68    47.5       No  16.83  Underweight   \n",
       "\n",
       "                                           Exercises  \\\n",
       "0  Squats, deadlifts, bench presses, and overhead...   \n",
       "1  Squats, deadlifts, bench presses, and overhead...   \n",
       "2  Squats, yoga, deadlifts, bench presses, and ov...   \n",
       "3  Squats, yoga, deadlifts, bench presses, and ov...   \n",
       "4  Squats, deadlifts, bench presses, and overhead...   \n",
       "\n",
       "                                           Equipment  \n",
       "0                             Dumbbells and barbells  \n",
       "1  Light athletic shoes, resistance bands, and li...  \n",
       "2      Dumbbells, barbells and Blood glucose monitor  \n",
       "3  Light athletic shoes, resistance bands, light ...  \n",
       "4                             Dumbbells and barbells  "
      ]
     },
     "execution_count": 7,
     "metadata": {},
     "output_type": "execute_result"
    }
   ],
   "source": [
    "df.head()"
   ]
  },
  {
   "cell_type": "code",
   "execution_count": null,
   "id": "d26caf7c",
   "metadata": {},
   "outputs": [],
   "source": []
  }
 ],
 "metadata": {
  "kernelspec": {
   "display_name": ".venv",
   "language": "python",
   "name": "python3"
  },
  "language_info": {
   "codemirror_mode": {
    "name": "ipython",
    "version": 3
   },
   "file_extension": ".py",
   "mimetype": "text/x-python",
   "name": "python",
   "nbconvert_exporter": "python",
   "pygments_lexer": "ipython3",
   "version": "3.10.0"
  }
 },
 "nbformat": 4,
 "nbformat_minor": 5
}
