{
 "cells": [
  {
   "cell_type": "markdown",
   "id": "cf068454",
   "metadata": {},
   "source": [
    "## **IMPORT LIBRARY**"
   ]
  },
  {
   "cell_type": "code",
   "execution_count": 33,
   "id": "7d59518f",
   "metadata": {},
   "outputs": [],
   "source": [
    "import pandas as pd\n",
    "import numpy as np"
   ]
  },
  {
   "cell_type": "markdown",
   "id": "3af4c3cd",
   "metadata": {},
   "source": [
    "## **LOAD DATASET**"
   ]
  },
  {
   "cell_type": "code",
   "execution_count": 29,
   "id": "71b6814e",
   "metadata": {},
   "outputs": [],
   "source": [
    "df_gym = pd.read_excel(\"../data/gym.xlsx\", engine='openpyxl')\n",
    "df_food = pd.read_excel(\"../data/food.xlsx\", engine='openpyxl')"
   ]
  },
  {
   "cell_type": "markdown",
   "id": "46b30df9",
   "metadata": {},
   "source": [
    "### 1. **Gym Dataframe**"
   ]
  },
  {
   "cell_type": "markdown",
   "id": "b70e984f",
   "metadata": {},
   "source": [
    "- Handling Missing & Duplicate Values "
   ]
  },
  {
   "cell_type": "code",
   "execution_count": 13,
   "id": "d26caf7c",
   "metadata": {},
   "outputs": [
    {
     "data": {
      "text/plain": [
       "ID           0\n",
       "Sex          0\n",
       "Age          0\n",
       "Height       0\n",
       "Weight       0\n",
       "Diabetes     0\n",
       "BMI          0\n",
       "Level        0\n",
       "Exercises    0\n",
       "Equipment    0\n",
       "dtype: int64"
      ]
     },
     "execution_count": 13,
     "metadata": {},
     "output_type": "execute_result"
    }
   ],
   "source": [
    "df_gym.isna().sum()"
   ]
  },
  {
   "cell_type": "code",
   "execution_count": 14,
   "id": "640b0470",
   "metadata": {},
   "outputs": [
    {
     "data": {
      "text/plain": [
       "np.int64(0)"
      ]
     },
     "execution_count": 14,
     "metadata": {},
     "output_type": "execute_result"
    }
   ],
   "source": [
    "df_gym.duplicated().sum()"
   ]
  },
  {
   "cell_type": "code",
   "execution_count": 40,
   "id": "01de46e4",
   "metadata": {},
   "outputs": [
    {
     "data": {
      "application/vnd.microsoft.datawrangler.viewer.v0+json": {
       "columns": [
        {
         "name": "index",
         "rawType": "object",
         "type": "string"
        },
        {
         "name": "ID",
         "rawType": "float64",
         "type": "float"
        },
        {
         "name": "Age",
         "rawType": "float64",
         "type": "float"
        },
        {
         "name": "Height",
         "rawType": "float64",
         "type": "float"
        },
        {
         "name": "Weight",
         "rawType": "float64",
         "type": "float"
        },
        {
         "name": "BMI",
         "rawType": "float64",
         "type": "float"
        }
       ],
       "conversionMethod": "pd.DataFrame",
       "ref": "ea053668-fb06-409e-af0d-624b51e56803",
       "rows": [
        [
         "count",
         "14589.0",
         "14589.0",
         "14589.0",
         "14589.0",
         "14589.0"
        ],
        [
         "mean",
         "7295.0",
         "39.55487010761533",
         "1.6998505723490298",
         "70.5059908149976",
         "24.41756871615601"
        ],
        [
         "std",
         "4211.62587369771",
         "13.192655388077474",
         "0.09812880317797813",
         "20.030634928676776",
         "6.765143772862846"
        ],
        [
         "min",
         "1.0",
         "18.0",
         "1.3",
         "32.0",
         "9.52"
        ],
        [
         "25%",
         "3648.0",
         "28.0",
         "1.64",
         "55.0",
         "18.94"
        ],
        [
         "50%",
         "7295.0",
         "39.0",
         "1.68",
         "70.0",
         "25.25"
        ],
        [
         "75%",
         "10942.0",
         "51.0",
         "1.77",
         "86.0",
         "29.32"
        ],
        [
         "max",
         "14589.0",
         "63.0",
         "2.03",
         "130.0",
         "70.0"
        ]
       ],
       "shape": {
        "columns": 5,
        "rows": 8
       }
      },
      "text/html": [
       "<div>\n",
       "<style scoped>\n",
       "    .dataframe tbody tr th:only-of-type {\n",
       "        vertical-align: middle;\n",
       "    }\n",
       "\n",
       "    .dataframe tbody tr th {\n",
       "        vertical-align: top;\n",
       "    }\n",
       "\n",
       "    .dataframe thead th {\n",
       "        text-align: right;\n",
       "    }\n",
       "</style>\n",
       "<table border=\"1\" class=\"dataframe\">\n",
       "  <thead>\n",
       "    <tr style=\"text-align: right;\">\n",
       "      <th></th>\n",
       "      <th>ID</th>\n",
       "      <th>Age</th>\n",
       "      <th>Height</th>\n",
       "      <th>Weight</th>\n",
       "      <th>BMI</th>\n",
       "    </tr>\n",
       "  </thead>\n",
       "  <tbody>\n",
       "    <tr>\n",
       "      <th>count</th>\n",
       "      <td>14589.000000</td>\n",
       "      <td>14589.000000</td>\n",
       "      <td>14589.000000</td>\n",
       "      <td>14589.000000</td>\n",
       "      <td>14589.000000</td>\n",
       "    </tr>\n",
       "    <tr>\n",
       "      <th>mean</th>\n",
       "      <td>7295.000000</td>\n",
       "      <td>39.554870</td>\n",
       "      <td>1.699851</td>\n",
       "      <td>70.505991</td>\n",
       "      <td>24.417569</td>\n",
       "    </tr>\n",
       "    <tr>\n",
       "      <th>std</th>\n",
       "      <td>4211.625874</td>\n",
       "      <td>13.192655</td>\n",
       "      <td>0.098129</td>\n",
       "      <td>20.030635</td>\n",
       "      <td>6.765144</td>\n",
       "    </tr>\n",
       "    <tr>\n",
       "      <th>min</th>\n",
       "      <td>1.000000</td>\n",
       "      <td>18.000000</td>\n",
       "      <td>1.300000</td>\n",
       "      <td>32.000000</td>\n",
       "      <td>9.520000</td>\n",
       "    </tr>\n",
       "    <tr>\n",
       "      <th>25%</th>\n",
       "      <td>3648.000000</td>\n",
       "      <td>28.000000</td>\n",
       "      <td>1.640000</td>\n",
       "      <td>55.000000</td>\n",
       "      <td>18.940000</td>\n",
       "    </tr>\n",
       "    <tr>\n",
       "      <th>50%</th>\n",
       "      <td>7295.000000</td>\n",
       "      <td>39.000000</td>\n",
       "      <td>1.680000</td>\n",
       "      <td>70.000000</td>\n",
       "      <td>25.250000</td>\n",
       "    </tr>\n",
       "    <tr>\n",
       "      <th>75%</th>\n",
       "      <td>10942.000000</td>\n",
       "      <td>51.000000</td>\n",
       "      <td>1.770000</td>\n",
       "      <td>86.000000</td>\n",
       "      <td>29.320000</td>\n",
       "    </tr>\n",
       "    <tr>\n",
       "      <th>max</th>\n",
       "      <td>14589.000000</td>\n",
       "      <td>63.000000</td>\n",
       "      <td>2.030000</td>\n",
       "      <td>130.000000</td>\n",
       "      <td>70.000000</td>\n",
       "    </tr>\n",
       "  </tbody>\n",
       "</table>\n",
       "</div>"
      ],
      "text/plain": [
       "                 ID           Age        Height        Weight           BMI\n",
       "count  14589.000000  14589.000000  14589.000000  14589.000000  14589.000000\n",
       "mean    7295.000000     39.554870      1.699851     70.505991     24.417569\n",
       "std     4211.625874     13.192655      0.098129     20.030635      6.765144\n",
       "min        1.000000     18.000000      1.300000     32.000000      9.520000\n",
       "25%     3648.000000     28.000000      1.640000     55.000000     18.940000\n",
       "50%     7295.000000     39.000000      1.680000     70.000000     25.250000\n",
       "75%    10942.000000     51.000000      1.770000     86.000000     29.320000\n",
       "max    14589.000000     63.000000      2.030000    130.000000     70.000000"
      ]
     },
     "execution_count": 40,
     "metadata": {},
     "output_type": "execute_result"
    }
   ],
   "source": [
    "df_gym.describe()"
   ]
  },
  {
   "cell_type": "markdown",
   "id": "f600671a",
   "metadata": {},
   "source": [
    "- Feature Engineering"
   ]
  },
  {
   "cell_type": "code",
   "execution_count": null,
   "id": "afdd46eb",
   "metadata": {},
   "outputs": [],
   "source": [
    "df_gym.drop(columns=['Hypertension'], inplace=True)\n",
    "df_gym.drop(columns=['Fitness Goal'], inplace=True)\n",
    "df_gym.drop(columns=['Fitness Type'], inplace=True)\n",
    "df_gym.drop(columns=['Diet'], inplace=True)\n",
    "df_gym.drop(columns=['Recommendation'], inplace=True)\n"
   ]
  },
  {
   "cell_type": "code",
   "execution_count": 34,
   "id": "b404b7cd",
   "metadata": {},
   "outputs": [],
   "source": [
    "df_gym['Activity Level'] = np.random.randint(1,6, size=len(df))"
   ]
  },
  {
   "cell_type": "code",
   "execution_count": null,
   "id": "60880f5f",
   "metadata": {},
   "outputs": [],
   "source": [
    "bins = [0,1,2,3,4,5]\n",
    "labels = ['Sedentary', 'Light Activity', 'Moderate Activity', 'Very Active', 'Extra Active']\n",
    "df_gym['Activity Level'] = pd.cut(df_gym['Activity Level'], bins=bins, labels=labels, right=True)"
   ]
  },
  {
   "cell_type": "markdown",
   "id": "8615b592",
   "metadata": {},
   "source": [
    "### 2. **Food Dataframe**"
   ]
  },
  {
   "cell_type": "code",
   "execution_count": 41,
   "id": "22ba3e0a",
   "metadata": {},
   "outputs": [
    {
     "data": {
      "application/vnd.microsoft.datawrangler.viewer.v0+json": {
       "columns": [
        {
         "name": "index",
         "rawType": "int64",
         "type": "integer"
        },
        {
         "name": "NAMA BAHAN",
         "rawType": "object",
         "type": "unknown"
        },
        {
         "name": "AIR (g)",
         "rawType": "float64",
         "type": "float"
        },
        {
         "name": "ENERGI (Kal)",
         "rawType": "float64",
         "type": "float"
        },
        {
         "name": "PROTEIN (g)",
         "rawType": "float64",
         "type": "float"
        },
        {
         "name": "LEMAK (g)",
         "rawType": "object",
         "type": "unknown"
        },
        {
         "name": "KARBOHIDRAT (g)",
         "rawType": "float64",
         "type": "float"
        },
        {
         "name": "BDD (%)",
         "rawType": "float64",
         "type": "float"
        }
       ],
       "conversionMethod": "pd.DataFrame",
       "ref": "cd5f19a9-2ec0-4106-a481-eff7619bb1f3",
       "rows": [
        [
         "0",
         null,
         null,
         null,
         null,
         null,
         null,
         null
        ],
        [
         "1",
         null,
         null,
         null,
         null,
         null,
         null,
         null
        ],
        [
         "2",
         "Beras giling, mentah",
         "12.0",
         "357.0",
         "8.4",
         "1.7",
         "77.1",
         "100.0"
        ],
        [
         "3",
         "Beras giling var pelita, mentah",
         "11.4",
         "369.0",
         "9.5",
         "1.4",
         "77.1",
         "100.0"
        ],
        [
         "4",
         "Beras giling var rojolele, mentah",
         "12.0",
         "357.0",
         "8.4",
         "1.7",
         "77.1",
         "100.0"
        ]
       ],
       "shape": {
        "columns": 7,
        "rows": 5
       }
      },
      "text/html": [
       "<div>\n",
       "<style scoped>\n",
       "    .dataframe tbody tr th:only-of-type {\n",
       "        vertical-align: middle;\n",
       "    }\n",
       "\n",
       "    .dataframe tbody tr th {\n",
       "        vertical-align: top;\n",
       "    }\n",
       "\n",
       "    .dataframe thead th {\n",
       "        text-align: right;\n",
       "    }\n",
       "</style>\n",
       "<table border=\"1\" class=\"dataframe\">\n",
       "  <thead>\n",
       "    <tr style=\"text-align: right;\">\n",
       "      <th></th>\n",
       "      <th>NAMA BAHAN</th>\n",
       "      <th>AIR (g)</th>\n",
       "      <th>ENERGI (Kal)</th>\n",
       "      <th>PROTEIN (g)</th>\n",
       "      <th>LEMAK (g)</th>\n",
       "      <th>KARBOHIDRAT (g)</th>\n",
       "      <th>BDD (%)</th>\n",
       "    </tr>\n",
       "  </thead>\n",
       "  <tbody>\n",
       "    <tr>\n",
       "      <th>0</th>\n",
       "      <td>NaN</td>\n",
       "      <td>NaN</td>\n",
       "      <td>NaN</td>\n",
       "      <td>NaN</td>\n",
       "      <td>NaN</td>\n",
       "      <td>NaN</td>\n",
       "      <td>NaN</td>\n",
       "    </tr>\n",
       "    <tr>\n",
       "      <th>1</th>\n",
       "      <td>NaN</td>\n",
       "      <td>NaN</td>\n",
       "      <td>NaN</td>\n",
       "      <td>NaN</td>\n",
       "      <td>NaN</td>\n",
       "      <td>NaN</td>\n",
       "      <td>NaN</td>\n",
       "    </tr>\n",
       "    <tr>\n",
       "      <th>2</th>\n",
       "      <td>Beras giling, mentah</td>\n",
       "      <td>12.0</td>\n",
       "      <td>357.0</td>\n",
       "      <td>8.4</td>\n",
       "      <td>1.7</td>\n",
       "      <td>77.1</td>\n",
       "      <td>100.0</td>\n",
       "    </tr>\n",
       "    <tr>\n",
       "      <th>3</th>\n",
       "      <td>Beras giling var pelita, mentah</td>\n",
       "      <td>11.4</td>\n",
       "      <td>369.0</td>\n",
       "      <td>9.5</td>\n",
       "      <td>1.4</td>\n",
       "      <td>77.1</td>\n",
       "      <td>100.0</td>\n",
       "    </tr>\n",
       "    <tr>\n",
       "      <th>4</th>\n",
       "      <td>Beras giling var rojolele, mentah</td>\n",
       "      <td>12.0</td>\n",
       "      <td>357.0</td>\n",
       "      <td>8.4</td>\n",
       "      <td>1.7</td>\n",
       "      <td>77.1</td>\n",
       "      <td>100.0</td>\n",
       "    </tr>\n",
       "  </tbody>\n",
       "</table>\n",
       "</div>"
      ],
      "text/plain": [
       "                          NAMA BAHAN  AIR (g)  ENERGI (Kal)  PROTEIN (g)  \\\n",
       "0                                NaN      NaN           NaN          NaN   \n",
       "1                                NaN      NaN           NaN          NaN   \n",
       "2               Beras giling, mentah     12.0         357.0          8.4   \n",
       "3    Beras giling var pelita, mentah     11.4         369.0          9.5   \n",
       "4  Beras giling var rojolele, mentah     12.0         357.0          8.4   \n",
       "\n",
       "  LEMAK (g)  KARBOHIDRAT (g)  BDD (%)  \n",
       "0       NaN              NaN      NaN  \n",
       "1       NaN              NaN      NaN  \n",
       "2       1.7             77.1    100.0  \n",
       "3       1.4             77.1    100.0  \n",
       "4       1.7             77.1    100.0  "
      ]
     },
     "execution_count": 41,
     "metadata": {},
     "output_type": "execute_result"
    }
   ],
   "source": [
    "df_food.head()"
   ]
  },
  {
   "cell_type": "markdown",
   "id": "3feec6eb",
   "metadata": {},
   "source": [
    "- Handling Missing & Duplicate Values"
   ]
  },
  {
   "cell_type": "code",
   "execution_count": 45,
   "id": "3b5f5a35",
   "metadata": {},
   "outputs": [
    {
     "data": {
      "text/plain": [
       "NAMA BAHAN           0\n",
       "AIR (g)              0\n",
       "ENERGI (Kal)         0\n",
       "PROTEIN (g)          0\n",
       "LEMAK (g)            0\n",
       "KARBOHIDRAT (g)      0\n",
       "BDD (%)            156\n",
       "dtype: int64"
      ]
     },
     "execution_count": 45,
     "metadata": {},
     "output_type": "execute_result"
    }
   ],
   "source": [
    "df_food.isna().sum()"
   ]
  },
  {
   "cell_type": "code",
   "execution_count": null,
   "id": "ebd07303",
   "metadata": {},
   "outputs": [
    {
     "data": {
      "application/vnd.microsoft.datawrangler.viewer.v0+json": {
       "columns": [
        {
         "name": "index",
         "rawType": "int64",
         "type": "integer"
        },
        {
         "name": "NAMA BAHAN",
         "rawType": "object",
         "type": "string"
        },
        {
         "name": "AIR (g)",
         "rawType": "float64",
         "type": "float"
        },
        {
         "name": "ENERGI (Kal)",
         "rawType": "float64",
         "type": "float"
        },
        {
         "name": "PROTEIN (g)",
         "rawType": "float64",
         "type": "float"
        },
        {
         "name": "LEMAK (g)",
         "rawType": "object",
         "type": "unknown"
        },
        {
         "name": "KARBOHIDRAT (g)",
         "rawType": "float64",
         "type": "float"
        },
        {
         "name": "BDD (%)",
         "rawType": "float64",
         "type": "float"
        }
       ],
       "conversionMethod": "pd.DataFrame",
       "ref": "1a4c93bb-ffa3-4ddb-bfde-3a5724ac65e5",
       "rows": [
        [
         "0",
         "Beras giling, mentah",
         "12.0",
         "357.0",
         "8.4",
         "1.7",
         "77.1",
         "100.0"
        ],
        [
         "1",
         "Beras giling var pelita, mentah",
         "11.4",
         "369.0",
         "9.5",
         "1.4",
         "77.1",
         "100.0"
        ],
        [
         "2",
         "Beras giling var rojolele, mentah",
         "12.0",
         "357.0",
         "8.4",
         "1.7",
         "77.1",
         "100.0"
        ],
        [
         "3",
         "Beras hitam, mentah",
         "12.9",
         "351.0",
         "8.0",
         "1.3",
         "76.9",
         "100.0"
        ],
        [
         "4",
         "Beras jagung kuning, kering, mentah",
         "10.8",
         "358.0",
         "5.5",
         "0.1",
         "82.7",
         "100.0"
        ]
       ],
       "shape": {
        "columns": 7,
        "rows": 5
       }
      },
      "text/html": [
       "<div>\n",
       "<style scoped>\n",
       "    .dataframe tbody tr th:only-of-type {\n",
       "        vertical-align: middle;\n",
       "    }\n",
       "\n",
       "    .dataframe tbody tr th {\n",
       "        vertical-align: top;\n",
       "    }\n",
       "\n",
       "    .dataframe thead th {\n",
       "        text-align: right;\n",
       "    }\n",
       "</style>\n",
       "<table border=\"1\" class=\"dataframe\">\n",
       "  <thead>\n",
       "    <tr style=\"text-align: right;\">\n",
       "      <th></th>\n",
       "      <th>NAMA BAHAN</th>\n",
       "      <th>AIR (g)</th>\n",
       "      <th>ENERGI (Kal)</th>\n",
       "      <th>PROTEIN (g)</th>\n",
       "      <th>LEMAK (g)</th>\n",
       "      <th>KARBOHIDRAT (g)</th>\n",
       "      <th>BDD (%)</th>\n",
       "    </tr>\n",
       "  </thead>\n",
       "  <tbody>\n",
       "    <tr>\n",
       "      <th>0</th>\n",
       "      <td>Beras giling, mentah</td>\n",
       "      <td>12.0</td>\n",
       "      <td>357.0</td>\n",
       "      <td>8.4</td>\n",
       "      <td>1.7</td>\n",
       "      <td>77.1</td>\n",
       "      <td>100.0</td>\n",
       "    </tr>\n",
       "    <tr>\n",
       "      <th>1</th>\n",
       "      <td>Beras giling var pelita, mentah</td>\n",
       "      <td>11.4</td>\n",
       "      <td>369.0</td>\n",
       "      <td>9.5</td>\n",
       "      <td>1.4</td>\n",
       "      <td>77.1</td>\n",
       "      <td>100.0</td>\n",
       "    </tr>\n",
       "    <tr>\n",
       "      <th>2</th>\n",
       "      <td>Beras giling var rojolele, mentah</td>\n",
       "      <td>12.0</td>\n",
       "      <td>357.0</td>\n",
       "      <td>8.4</td>\n",
       "      <td>1.7</td>\n",
       "      <td>77.1</td>\n",
       "      <td>100.0</td>\n",
       "    </tr>\n",
       "    <tr>\n",
       "      <th>3</th>\n",
       "      <td>Beras hitam, mentah</td>\n",
       "      <td>12.9</td>\n",
       "      <td>351.0</td>\n",
       "      <td>8.0</td>\n",
       "      <td>1.3</td>\n",
       "      <td>76.9</td>\n",
       "      <td>100.0</td>\n",
       "    </tr>\n",
       "    <tr>\n",
       "      <th>4</th>\n",
       "      <td>Beras jagung kuning, kering, mentah</td>\n",
       "      <td>10.8</td>\n",
       "      <td>358.0</td>\n",
       "      <td>5.5</td>\n",
       "      <td>0.1</td>\n",
       "      <td>82.7</td>\n",
       "      <td>100.0</td>\n",
       "    </tr>\n",
       "  </tbody>\n",
       "</table>\n",
       "</div>"
      ],
      "text/plain": [
       "                            NAMA BAHAN  AIR (g)  ENERGI (Kal)  PROTEIN (g)  \\\n",
       "0                 Beras giling, mentah     12.0         357.0          8.4   \n",
       "1      Beras giling var pelita, mentah     11.4         369.0          9.5   \n",
       "2    Beras giling var rojolele, mentah     12.0         357.0          8.4   \n",
       "3                  Beras hitam, mentah     12.9         351.0          8.0   \n",
       "4  Beras jagung kuning, kering, mentah     10.8         358.0          5.5   \n",
       "\n",
       "  LEMAK (g)  KARBOHIDRAT (g)  BDD (%)  \n",
       "0       1.7             77.1    100.0  \n",
       "1       1.4             77.1    100.0  \n",
       "2       1.7             77.1    100.0  \n",
       "3       1.3             76.9    100.0  \n",
       "4       0.1             82.7    100.0  "
      ]
     },
     "execution_count": 43,
     "metadata": {},
     "output_type": "execute_result"
    }
   ],
   "source": [
    "df_food.loc[1104, 'PROTEIN (g)'] = 0.5\n",
    "df_food.loc[711, 'LEMAK (g)'] = 0.3\n",
    "df_food = df_food.drop([0,1]).reset_index(drop=True)"
   ]
  },
  {
   "cell_type": "markdown",
   "id": "340bb3c7",
   "metadata": {},
   "source": [
    "- Feature Engineering"
   ]
  },
  {
   "cell_type": "code",
   "execution_count": null,
   "id": "0b640fb2",
   "metadata": {},
   "outputs": [],
   "source": []
  }
 ],
 "metadata": {
  "kernelspec": {
   "display_name": ".venv",
   "language": "python",
   "name": "python3"
  },
  "language_info": {
   "codemirror_mode": {
    "name": "ipython",
    "version": 3
   },
   "file_extension": ".py",
   "mimetype": "text/x-python",
   "name": "python",
   "nbconvert_exporter": "python",
   "pygments_lexer": "ipython3",
   "version": "3.10.0"
  }
 },
 "nbformat": 4,
 "nbformat_minor": 5
}
